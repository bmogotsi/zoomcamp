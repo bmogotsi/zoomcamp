{
 "cells": [
  {
   "cell_type": "markdown",
   "id": "9d32e3db-702f-4682-841a-71685d219fe5",
   "metadata": {},
   "source": [
    "##### A Streamlit App for Converting Parquet Files to CSV\n",
    "##### Drag and Drop Parquet to CSV Converter\n",
    "###### https://chr1sc0de-parquettocsv-app-m5vze5.streamlit.app/      (web-app)\n",
    "#####   https://www.linkedin.com/pulse/streamlit-app-converting-parquet-files-csv-chris-mamon/\n",
    "#####  https://github.com/Chr1sC0de/ParquetToCSV"
   ]
  },
  {
   "cell_type": "code",
   "execution_count": null,
   "id": "b9b2d9fb-6d16-4a76-bce4-143a943a6998",
   "metadata": {},
   "outputs": [],
   "source": [
    "##### input data\n",
    "##### https://www.kaggle.com/code/sohier/working-with-parquet/notebook\n"
   ]
  },
  {
   "cell_type": "code",
   "execution_count": 4,
   "id": "9cbc22a3-33fe-49a0-b860-041a02a925b3",
   "metadata": {},
   "outputs": [],
   "source": [
    "import io                     # for handling byte streams\n",
    "import polars as pl           # for data manipulation\n",
    "import streamlit as st        # for creating the web app"
   ]
  },
  {
   "cell_type": "markdown",
   "id": "1589464c-ccaa-4845-89bb-4d95b875da8a",
   "metadata": {},
   "source": [
    "###### A Step-by-Step Guide to Creating a Simple Parquet to CSV Converter Using Polars and Streamlit"
   ]
  },
  {
   "cell_type": "code",
   "execution_count": 3,
   "id": "ca2d1d83-7281-4600-b7a0-9104bf6353cf",
   "metadata": {},
   "outputs": [
    {
     "ename": "SyntaxError",
     "evalue": "incomplete input (1564268142.py, line 8)",
     "output_type": "error",
     "traceback": [
      "\u001b[1;36m  Cell \u001b[1;32mIn[3], line 8\u001b[1;36m\u001b[0m\n\u001b[1;33m    # ...\u001b[0m\n\u001b[1;37m         ^\u001b[0m\n\u001b[1;31mSyntaxError\u001b[0m\u001b[1;31m:\u001b[0m incomplete input\n"
     ]
    }
   ],
   "source": [
    "# Create a function to run the app.\n",
    "# web app. It starts with a title and a spinner to display while waiting for file uploads:\n",
    "\n",
    "def main():\n",
    "    st.title(\"Drag and Drop Parquet to CSV Converter\")\n",
    "\n",
    "    with st.spinner(\"Waiting for files to upload...\"):\n",
    "        # ..."
   ]
  },
  {
   "cell_type": "code",
   "execution_count": null,
   "id": "e917b953-0e91-46dc-b859-cb0a2dc536e5",
   "metadata": {},
   "outputs": [],
   "source": []
  }
 ],
 "metadata": {
  "kernelspec": {
   "display_name": "Python 3 (ipykernel)",
   "language": "python",
   "name": "python3"
  },
  "language_info": {
   "codemirror_mode": {
    "name": "ipython",
    "version": 3
   },
   "file_extension": ".py",
   "mimetype": "text/x-python",
   "name": "python",
   "nbconvert_exporter": "python",
   "pygments_lexer": "ipython3",
   "version": "3.11.2"
  }
 },
 "nbformat": 4,
 "nbformat_minor": 5
}
